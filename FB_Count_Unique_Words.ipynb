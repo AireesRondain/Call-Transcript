{
  "nbformat": 4,
  "nbformat_minor": 0,
  "metadata": {
    "colab": {
      "name": "FB_Count_Unique_Words.ipynb",
      "provenance": [],
      "collapsed_sections": [],
      "mount_file_id": "1GIBmVPOCQCQ3JxdLwxkVkpO4jHXEPm30",
      "authorship_tag": "ABX9TyMai1ERRr3+44qfkZ1vwP0t",
      "include_colab_link": true
    },
    "kernelspec": {
      "name": "python3",
      "display_name": "Python 3"
    },
    "language_info": {
      "name": "python"
    }
  },
  "cells": [
    {
      "cell_type": "markdown",
      "metadata": {
        "id": "view-in-github",
        "colab_type": "text"
      },
      "source": [
        "<a href=\"https://colab.research.google.com/github/AireesRondain/Call-Transcript/blob/main/FB_Count_Unique_Words.ipynb\" target=\"_parent\"><img src=\"https://colab.research.google.com/assets/colab-badge.svg\" alt=\"Open In Colab\"/></a>"
      ]
    },
    {
      "cell_type": "code",
      "metadata": {
        "colab": {
          "base_uri": "https://localhost:8080/"
        },
        "id": "f-R4IoS9J5ZW",
        "outputId": "27780ebd-5895-42c3-965d-7de7ee052a18"
      },
      "source": [
        "from google.colab import drive\n",
        "drive.mount('/gdrive')\n",
        "%cd /gdrive/My Drive/Colab Notebooks/downloads"
      ],
      "execution_count": 1,
      "outputs": [
        {
          "output_type": "stream",
          "name": "stdout",
          "text": [
            "Mounted at /gdrive\n",
            "/gdrive/My Drive/Colab Notebooks/downloads\n"
          ]
        }
      ]
    },
    {
      "cell_type": "code",
      "metadata": {
        "id": "exP56LXPV3wF"
      },
      "source": [
        "import os\n",
        "import pandas as pd # holds data\n",
        "import matplotlib.pyplot as plt # plotting library\n",
        "import seaborn as sns # pretty plotting\n",
        "import warnings\n",
        "warnings.filterwarnings('ignore')\n",
        "\n",
        "# plotting config\n",
        "sns.set(style='white', rc={'figure.figsize':(20,10)})"
      ],
      "execution_count": 2,
      "outputs": []
    },
    {
      "cell_type": "code",
      "metadata": {
        "id": "ATSVGNoZgcwS"
      },
      "source": [
        "text_file = open('FB-Q2-2021.txt', 'r')\n",
        "text = text_file.read()"
      ],
      "execution_count": 3,
      "outputs": []
    },
    {
      "cell_type": "code",
      "metadata": {
        "id": "6D1VbtciLFaI"
      },
      "source": [
        "#cleaning\n",
        "text = text.lower()\n",
        "words = text.split()\n",
        "words = [word.strip('.,!;()[]') for word in words]\n",
        "words = [word.replace(\"'s\",'') for word in words]"
      ],
      "execution_count": 4,
      "outputs": []
    },
    {
      "cell_type": "code",
      "metadata": {
        "id": "EwppiDppMbDB"
      },
      "source": [
        "import string\n",
        "# Create an empty dictionary\n",
        "d = dict()\n",
        "\n",
        "for word in words:\n",
        "    # Check if the word is already in dictionary\n",
        "  if word in d:\n",
        "  # Increment count of word by 1\n",
        "    d[word] = d[word] + 1\n",
        "  else:\n",
        "  # Add the word to dictionary with count 1\n",
        "    d[word] = 1  \n",
        "# Print the contents of dictionary\n",
        "#for key in list(d.keys()):\n",
        "#    print(key, \":\", d[key])"
      ],
      "execution_count": 5,
      "outputs": []
    },
    {
      "cell_type": "code",
      "metadata": {
        "id": "yunU3sP3Q-I5"
      },
      "source": [
        "df = pd.DataFrame(list(d.items()),columns = ['word','count'])\n",
        "# adding column with constant value\n",
        "df.insert(0,'Transcript Name','FB-Q2-2021')\n",
        "df.sort_values('count',axis=0,ascending=False,inplace=True)\n"
      ],
      "execution_count": 7,
      "outputs": []
    },
    {
      "cell_type": "code",
      "metadata": {
        "colab": {
          "base_uri": "https://localhost:8080/",
          "height": 359
        },
        "id": "dP1LRnFWYg4N",
        "outputId": "cf3829a4-74d9-4e57-827e-3c15fb353752"
      },
      "source": [
        "df.head(10)"
      ],
      "execution_count": 8,
      "outputs": [
        {
          "output_type": "execute_result",
          "data": {
            "text/html": [
              "<div>\n",
              "<style scoped>\n",
              "    .dataframe tbody tr th:only-of-type {\n",
              "        vertical-align: middle;\n",
              "    }\n",
              "\n",
              "    .dataframe tbody tr th {\n",
              "        vertical-align: top;\n",
              "    }\n",
              "\n",
              "    .dataframe thead th {\n",
              "        text-align: right;\n",
              "    }\n",
              "</style>\n",
              "<table border=\"1\" class=\"dataframe\">\n",
              "  <thead>\n",
              "    <tr style=\"text-align: right;\">\n",
              "      <th></th>\n",
              "      <th>Transcript Name</th>\n",
              "      <th>word</th>\n",
              "      <th>count</th>\n",
              "    </tr>\n",
              "  </thead>\n",
              "  <tbody>\n",
              "    <tr>\n",
              "      <th>22</th>\n",
              "      <td>FB-Q2-2021</td>\n",
              "      <td>the</td>\n",
              "      <td>430</td>\n",
              "    </tr>\n",
              "    <tr>\n",
              "      <th>19</th>\n",
              "      <td>FB-Q2-2021</td>\n",
              "      <td>to</td>\n",
              "      <td>412</td>\n",
              "    </tr>\n",
              "    <tr>\n",
              "      <th>6</th>\n",
              "      <td>FB-Q2-2021</td>\n",
              "      <td>and</td>\n",
              "      <td>366</td>\n",
              "    </tr>\n",
              "    <tr>\n",
              "      <th>35</th>\n",
              "      <td>FB-Q2-2021</td>\n",
              "      <td>of</td>\n",
              "      <td>274</td>\n",
              "    </tr>\n",
              "    <tr>\n",
              "      <th>66</th>\n",
              "      <td>FB-Q2-2021</td>\n",
              "      <td>that</td>\n",
              "      <td>254</td>\n",
              "    </tr>\n",
              "    <tr>\n",
              "      <th>104</th>\n",
              "      <td>FB-Q2-2021</td>\n",
              "      <td>a</td>\n",
              "      <td>199</td>\n",
              "    </tr>\n",
              "    <tr>\n",
              "      <th>84</th>\n",
              "      <td>FB-Q2-2021</td>\n",
              "      <td>in</td>\n",
              "      <td>183</td>\n",
              "    </tr>\n",
              "    <tr>\n",
              "      <th>60</th>\n",
              "      <td>FB-Q2-2021</td>\n",
              "      <td>we</td>\n",
              "      <td>162</td>\n",
              "    </tr>\n",
              "    <tr>\n",
              "      <th>4</th>\n",
              "      <td>FB-Q2-2021</td>\n",
              "      <td>is</td>\n",
              "      <td>149</td>\n",
              "    </tr>\n",
              "    <tr>\n",
              "      <th>89</th>\n",
              "      <td>FB-Q2-2021</td>\n",
              "      <td>on</td>\n",
              "      <td>149</td>\n",
              "    </tr>\n",
              "  </tbody>\n",
              "</table>\n",
              "</div>"
            ],
            "text/plain": [
              "    Transcript Name  word  count\n",
              "22       FB-Q2-2021   the    430\n",
              "19       FB-Q2-2021    to    412\n",
              "6        FB-Q2-2021   and    366\n",
              "35       FB-Q2-2021    of    274\n",
              "66       FB-Q2-2021  that    254\n",
              "104      FB-Q2-2021     a    199\n",
              "84       FB-Q2-2021    in    183\n",
              "60       FB-Q2-2021    we    162\n",
              "4        FB-Q2-2021    is    149\n",
              "89       FB-Q2-2021    on    149"
            ]
          },
          "metadata": {},
          "execution_count": 8
        }
      ]
    },
    {
      "cell_type": "code",
      "metadata": {
        "colab": {
          "base_uri": "https://localhost:8080/",
          "height": 204
        },
        "id": "4RGZkhpfYlY3",
        "outputId": "724ef5ab-1113-4934-a2e3-da118bd4f0eb"
      },
      "source": [
        "df.tail()"
      ],
      "execution_count": 9,
      "outputs": [
        {
          "output_type": "execute_result",
          "data": {
            "text/html": [
              "<div>\n",
              "<style scoped>\n",
              "    .dataframe tbody tr th:only-of-type {\n",
              "        vertical-align: middle;\n",
              "    }\n",
              "\n",
              "    .dataframe tbody tr th {\n",
              "        vertical-align: top;\n",
              "    }\n",
              "\n",
              "    .dataframe thead th {\n",
              "        text-align: right;\n",
              "    }\n",
              "</style>\n",
              "<table border=\"1\" class=\"dataframe\">\n",
              "  <thead>\n",
              "    <tr style=\"text-align: right;\">\n",
              "      <th></th>\n",
              "      <th>Transcript Name</th>\n",
              "      <th>word</th>\n",
              "      <th>count</th>\n",
              "    </tr>\n",
              "  </thead>\n",
              "  <tbody>\n",
              "    <tr>\n",
              "      <th>973</th>\n",
              "      <td>FB-Q2-2021</td>\n",
              "      <td>items:</td>\n",
              "      <td>1</td>\n",
              "    </tr>\n",
              "    <tr>\n",
              "      <th>975</th>\n",
              "      <td>FB-Q2-2021</td>\n",
              "      <td>41%</td>\n",
              "      <td>1</td>\n",
              "    </tr>\n",
              "    <tr>\n",
              "      <th>980</th>\n",
              "      <td>FB-Q2-2021</td>\n",
              "      <td>r&amp;d</td>\n",
              "      <td>1</td>\n",
              "    </tr>\n",
              "    <tr>\n",
              "      <th>981</th>\n",
              "      <td>FB-Q2-2021</td>\n",
              "      <td>37%</td>\n",
              "      <td>1</td>\n",
              "    </tr>\n",
              "    <tr>\n",
              "      <th>1726</th>\n",
              "      <td>FB-Q2-2021</td>\n",
              "      <td>minutes</td>\n",
              "      <td>1</td>\n",
              "    </tr>\n",
              "  </tbody>\n",
              "</table>\n",
              "</div>"
            ],
            "text/plain": [
              "     Transcript Name     word  count\n",
              "973       FB-Q2-2021   items:      1\n",
              "975       FB-Q2-2021      41%      1\n",
              "980       FB-Q2-2021      r&d      1\n",
              "981       FB-Q2-2021      37%      1\n",
              "1726      FB-Q2-2021  minutes      1"
            ]
          },
          "metadata": {},
          "execution_count": 9
        }
      ]
    },
    {
      "cell_type": "code",
      "metadata": {
        "colab": {
          "base_uri": "https://localhost:8080/"
        },
        "id": "hxDkRyg7WiZr",
        "outputId": "e7e8d437-ca05-45a6-979e-46519dede105"
      },
      "source": [
        "df.shape"
      ],
      "execution_count": 10,
      "outputs": [
        {
          "output_type": "execute_result",
          "data": {
            "text/plain": [
              "(1727, 3)"
            ]
          },
          "metadata": {},
          "execution_count": 10
        }
      ]
    },
    {
      "cell_type": "code",
      "metadata": {
        "colab": {
          "base_uri": "https://localhost:8080/"
        },
        "id": "XpeUQBfvWpml",
        "outputId": "17bbeaa8-c5b7-46a8-b4bc-a7b5722b8a85"
      },
      "source": [
        "df.info()"
      ],
      "execution_count": 11,
      "outputs": [
        {
          "output_type": "stream",
          "name": "stdout",
          "text": [
            "<class 'pandas.core.frame.DataFrame'>\n",
            "Int64Index: 1727 entries, 22 to 1726\n",
            "Data columns (total 3 columns):\n",
            " #   Column           Non-Null Count  Dtype \n",
            "---  ------           --------------  ----- \n",
            " 0   Transcript Name  1727 non-null   object\n",
            " 1   word             1727 non-null   object\n",
            " 2   count            1727 non-null   int64 \n",
            "dtypes: int64(1), object(2)\n",
            "memory usage: 54.0+ KB\n"
          ]
        }
      ]
    },
    {
      "cell_type": "code",
      "metadata": {
        "colab": {
          "base_uri": "https://localhost:8080/"
        },
        "id": "E4QVcRRxWsiN",
        "outputId": "da315e52-bb5f-44e9-98db-ba50ad286cd5"
      },
      "source": [
        "df.dtypes"
      ],
      "execution_count": 12,
      "outputs": [
        {
          "output_type": "execute_result",
          "data": {
            "text/plain": [
              "Transcript Name    object\n",
              "word               object\n",
              "count               int64\n",
              "dtype: object"
            ]
          },
          "metadata": {},
          "execution_count": 12
        }
      ]
    },
    {
      "cell_type": "code",
      "metadata": {
        "colab": {
          "base_uri": "https://localhost:8080/",
          "height": 297
        },
        "id": "LULcS7-UWyBt",
        "outputId": "213c4b8f-004f-4ca9-ba1e-0bfa494fc56b"
      },
      "source": [
        "df. describe()"
      ],
      "execution_count": 13,
      "outputs": [
        {
          "output_type": "execute_result",
          "data": {
            "text/html": [
              "<div>\n",
              "<style scoped>\n",
              "    .dataframe tbody tr th:only-of-type {\n",
              "        vertical-align: middle;\n",
              "    }\n",
              "\n",
              "    .dataframe tbody tr th {\n",
              "        vertical-align: top;\n",
              "    }\n",
              "\n",
              "    .dataframe thead th {\n",
              "        text-align: right;\n",
              "    }\n",
              "</style>\n",
              "<table border=\"1\" class=\"dataframe\">\n",
              "  <thead>\n",
              "    <tr style=\"text-align: right;\">\n",
              "      <th></th>\n",
              "      <th>count</th>\n",
              "    </tr>\n",
              "  </thead>\n",
              "  <tbody>\n",
              "    <tr>\n",
              "      <th>count</th>\n",
              "      <td>1727.000000</td>\n",
              "    </tr>\n",
              "    <tr>\n",
              "      <th>mean</th>\n",
              "      <td>6.162710</td>\n",
              "    </tr>\n",
              "    <tr>\n",
              "      <th>std</th>\n",
              "      <td>23.256408</td>\n",
              "    </tr>\n",
              "    <tr>\n",
              "      <th>min</th>\n",
              "      <td>1.000000</td>\n",
              "    </tr>\n",
              "    <tr>\n",
              "      <th>25%</th>\n",
              "      <td>1.000000</td>\n",
              "    </tr>\n",
              "    <tr>\n",
              "      <th>50%</th>\n",
              "      <td>2.000000</td>\n",
              "    </tr>\n",
              "    <tr>\n",
              "      <th>75%</th>\n",
              "      <td>4.000000</td>\n",
              "    </tr>\n",
              "    <tr>\n",
              "      <th>max</th>\n",
              "      <td>430.000000</td>\n",
              "    </tr>\n",
              "  </tbody>\n",
              "</table>\n",
              "</div>"
            ],
            "text/plain": [
              "             count\n",
              "count  1727.000000\n",
              "mean      6.162710\n",
              "std      23.256408\n",
              "min       1.000000\n",
              "25%       1.000000\n",
              "50%       2.000000\n",
              "75%       4.000000\n",
              "max     430.000000"
            ]
          },
          "metadata": {},
          "execution_count": 13
        }
      ]
    },
    {
      "cell_type": "code",
      "metadata": {
        "colab": {
          "base_uri": "https://localhost:8080/"
        },
        "id": "NQzB-CrGXKbA",
        "outputId": "0ba82726-23e3-438b-b8d8-17b2e423403f"
      },
      "source": [
        "df.median()"
      ],
      "execution_count": 14,
      "outputs": [
        {
          "output_type": "execute_result",
          "data": {
            "text/plain": [
              "count    2.0\n",
              "dtype: float64"
            ]
          },
          "metadata": {},
          "execution_count": 14
        }
      ]
    },
    {
      "cell_type": "code",
      "metadata": {
        "id": "46OIRxVkY4AL"
      },
      "source": [
        "df.to_csv('FB-2021-Q2.csv', index=False)"
      ],
      "execution_count": 15,
      "outputs": []
    },
    {
      "cell_type": "code",
      "metadata": {
        "id": "mvf6fvMgZIxz"
      },
      "source": [
        ""
      ],
      "execution_count": null,
      "outputs": []
    }
  ]
}