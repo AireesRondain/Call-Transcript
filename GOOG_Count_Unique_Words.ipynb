{
  "nbformat": 4,
  "nbformat_minor": 0,
  "metadata": {
    "colab": {
      "name": "GOOG_Count_Unique_Words.ipynb",
      "provenance": [],
      "collapsed_sections": [],
      "mount_file_id": "1GIBmVPOCQCQ3JxdLwxkVkpO4jHXEPm30",
      "authorship_tag": "ABX9TyNZP7gPA5UiMz4OluNRQD6U",
      "include_colab_link": true
    },
    "kernelspec": {
      "name": "python3",
      "display_name": "Python 3"
    },
    "language_info": {
      "name": "python"
    }
  },
  "cells": [
    {
      "cell_type": "markdown",
      "metadata": {
        "id": "view-in-github",
        "colab_type": "text"
      },
      "source": [
        "<a href=\"https://colab.research.google.com/github/AireesRondain/Call-Transcript/blob/main/GOOG_Count_Unique_Words.ipynb\" target=\"_parent\"><img src=\"https://colab.research.google.com/assets/colab-badge.svg\" alt=\"Open In Colab\"/></a>"
      ]
    },
    {
      "cell_type": "code",
      "metadata": {
        "colab": {
          "base_uri": "https://localhost:8080/"
        },
        "id": "f-R4IoS9J5ZW",
        "outputId": "4b163dd2-c10f-4e58-f853-b21d3d5ca23a"
      },
      "source": [
        "from google.colab import drive\n",
        "drive.mount('/gdrive')\n",
        "%cd /gdrive/My Drive/Colab Notebooks/downloads"
      ],
      "execution_count": null,
      "outputs": [
        {
          "output_type": "stream",
          "name": "stdout",
          "text": [
            "Drive already mounted at /gdrive; to attempt to forcibly remount, call drive.mount(\"/gdrive\", force_remount=True).\n",
            "/gdrive/My Drive/Colab Notebooks/downloads\n"
          ]
        }
      ]
    },
    {
      "cell_type": "code",
      "metadata": {
        "id": "exP56LXPV3wF"
      },
      "source": [
        "import os\n",
        "import pandas as pd # holds data\n",
        "import warnings\n",
        "warnings.filterwarnings('ignore')\n",
        "\n",
        "# plotting config\n",
        "sns.set(style='white', rc={'figure.figsize':(20,10)})"
      ],
      "execution_count": null,
      "outputs": []
    },
    {
      "cell_type": "code",
      "metadata": {
        "id": "ATSVGNoZgcwS"
      },
      "source": [
        "text_file = open('GOOG-Q2-2021.txt', 'r')\n",
        "text = text_file.read()"
      ],
      "execution_count": null,
      "outputs": []
    },
    {
      "cell_type": "code",
      "metadata": {
        "id": "6D1VbtciLFaI"
      },
      "source": [
        "#cleaning\n",
        "text = text.lower()\n",
        "words = text.split()\n",
        "words = [word.strip('.,!;()[]') for word in words]\n",
        "words = [word.replace(\"'s\",'') for word in words]"
      ],
      "execution_count": null,
      "outputs": []
    },
    {
      "cell_type": "code",
      "metadata": {
        "id": "EwppiDppMbDB"
      },
      "source": [
        "import string\n",
        "# Create an empty dictionary\n",
        "d = dict()\n",
        "\n",
        "for word in words:\n",
        "    # Check if the word is already in dictionary\n",
        "  if word in d:\n",
        "  # Increment count of word by 1\n",
        "    d[word] = d[word] + 1\n",
        "  else:\n",
        "  # Add the word to dictionary with count 1\n",
        "    d[word] = 1  \n",
        "# Print the contents of dictionary\n",
        "#for key in list(d.keys()):\n",
        "#    print(key, \":\", d[key])"
      ],
      "execution_count": null,
      "outputs": []
    },
    {
      "cell_type": "code",
      "metadata": {
        "id": "yunU3sP3Q-I5"
      },
      "source": [
        "df = pd.DataFrame(list(d.items()),columns = ['word','count'])\n",
        "# adding column with constant value\n",
        "df.insert(0,'Transcript Name','GOOG-Q2-2021')\n",
        "df.sort_values('count',axis=0,ascending=False,inplace=True)\n"
      ],
      "execution_count": null,
      "outputs": []
    },
    {
      "cell_type": "code",
      "metadata": {
        "colab": {
          "base_uri": "https://localhost:8080/",
          "height": 359
        },
        "id": "dP1LRnFWYg4N",
        "outputId": "b8087b7f-de9c-4f63-b8a8-e26b8a83d083"
      },
      "source": [
        "df.head(10)"
      ],
      "execution_count": null,
      "outputs": [
        {
          "output_type": "execute_result",
          "data": {
            "text/html": [
              "<div>\n",
              "<style scoped>\n",
              "    .dataframe tbody tr th:only-of-type {\n",
              "        vertical-align: middle;\n",
              "    }\n",
              "\n",
              "    .dataframe tbody tr th {\n",
              "        vertical-align: top;\n",
              "    }\n",
              "\n",
              "    .dataframe thead th {\n",
              "        text-align: right;\n",
              "    }\n",
              "</style>\n",
              "<table border=\"1\" class=\"dataframe\">\n",
              "  <thead>\n",
              "    <tr style=\"text-align: right;\">\n",
              "      <th></th>\n",
              "      <th>Transcript Name</th>\n",
              "      <th>word</th>\n",
              "      <th>count</th>\n",
              "    </tr>\n",
              "  </thead>\n",
              "  <tbody>\n",
              "    <tr>\n",
              "      <th>39</th>\n",
              "      <td>GOOG-Q2-2021</td>\n",
              "      <td>and</td>\n",
              "      <td>314</td>\n",
              "    </tr>\n",
              "    <tr>\n",
              "      <th>7</th>\n",
              "      <td>GOOG-Q2-2021</td>\n",
              "      <td>the</td>\n",
              "      <td>310</td>\n",
              "    </tr>\n",
              "    <tr>\n",
              "      <th>20</th>\n",
              "      <td>GOOG-Q2-2021</td>\n",
              "      <td>to</td>\n",
              "      <td>260</td>\n",
              "    </tr>\n",
              "    <tr>\n",
              "      <th>29</th>\n",
              "      <td>GOOG-Q2-2021</td>\n",
              "      <td>of</td>\n",
              "      <td>184</td>\n",
              "    </tr>\n",
              "    <tr>\n",
              "      <th>95</th>\n",
              "      <td>GOOG-Q2-2021</td>\n",
              "      <td>in</td>\n",
              "      <td>175</td>\n",
              "    </tr>\n",
              "    <tr>\n",
              "      <th>58</th>\n",
              "      <td>GOOG-Q2-2021</td>\n",
              "      <td>we</td>\n",
              "      <td>139</td>\n",
              "    </tr>\n",
              "    <tr>\n",
              "      <th>61</th>\n",
              "      <td>GOOG-Q2-2021</td>\n",
              "      <td>our</td>\n",
              "      <td>123</td>\n",
              "    </tr>\n",
              "    <tr>\n",
              "      <th>79</th>\n",
              "      <td>GOOG-Q2-2021</td>\n",
              "      <td>a</td>\n",
              "      <td>112</td>\n",
              "    </tr>\n",
              "    <tr>\n",
              "      <th>57</th>\n",
              "      <td>GOOG-Q2-2021</td>\n",
              "      <td>that</td>\n",
              "      <td>85</td>\n",
              "    </tr>\n",
              "    <tr>\n",
              "      <th>4</th>\n",
              "      <td>GOOG-Q2-2021</td>\n",
              "      <td>for</td>\n",
              "      <td>84</td>\n",
              "    </tr>\n",
              "  </tbody>\n",
              "</table>\n",
              "</div>"
            ],
            "text/plain": [
              "   Transcript Name  word  count\n",
              "39    GOOG-Q2-2021   and    314\n",
              "7     GOOG-Q2-2021   the    310\n",
              "20    GOOG-Q2-2021    to    260\n",
              "29    GOOG-Q2-2021    of    184\n",
              "95    GOOG-Q2-2021    in    175\n",
              "58    GOOG-Q2-2021    we    139\n",
              "61    GOOG-Q2-2021   our    123\n",
              "79    GOOG-Q2-2021     a    112\n",
              "57    GOOG-Q2-2021  that     85\n",
              "4     GOOG-Q2-2021   for     84"
            ]
          },
          "metadata": {},
          "execution_count": 24
        }
      ]
    },
    {
      "cell_type": "code",
      "metadata": {
        "colab": {
          "base_uri": "https://localhost:8080/",
          "height": 204
        },
        "id": "4RGZkhpfYlY3",
        "outputId": "8bbd0a9e-43bd-4b41-9452-fc940e2bc418"
      },
      "source": [
        "df.tail()"
      ],
      "execution_count": null,
      "outputs": [
        {
          "output_type": "execute_result",
          "data": {
            "text/html": [
              "<div>\n",
              "<style scoped>\n",
              "    .dataframe tbody tr th:only-of-type {\n",
              "        vertical-align: middle;\n",
              "    }\n",
              "\n",
              "    .dataframe tbody tr th {\n",
              "        vertical-align: top;\n",
              "    }\n",
              "\n",
              "    .dataframe thead th {\n",
              "        text-align: right;\n",
              "    }\n",
              "</style>\n",
              "<table border=\"1\" class=\"dataframe\">\n",
              "  <thead>\n",
              "    <tr style=\"text-align: right;\">\n",
              "      <th></th>\n",
              "      <th>Transcript Name</th>\n",
              "      <th>word</th>\n",
              "      <th>count</th>\n",
              "    </tr>\n",
              "  </thead>\n",
              "  <tbody>\n",
              "    <tr>\n",
              "      <th>931</th>\n",
              "      <td>GOOG-Q2-2021</td>\n",
              "      <td>frontal</td>\n",
              "      <td>1</td>\n",
              "    </tr>\n",
              "    <tr>\n",
              "      <th>933</th>\n",
              "      <td>GOOG-Q2-2021</td>\n",
              "      <td>compara</td>\n",
              "      <td>1</td>\n",
              "    </tr>\n",
              "    <tr>\n",
              "      <th>934</th>\n",
              "      <td>GOOG-Q2-2021</td>\n",
              "      <td>leader</td>\n",
              "      <td>1</td>\n",
              "    </tr>\n",
              "    <tr>\n",
              "      <th>935</th>\n",
              "      <td>GOOG-Q2-2021</td>\n",
              "      <td>chile</td>\n",
              "      <td>1</td>\n",
              "    </tr>\n",
              "    <tr>\n",
              "      <th>1766</th>\n",
              "      <td>GOOG-Q2-2021</td>\n",
              "      <td>52</td>\n",
              "      <td>1</td>\n",
              "    </tr>\n",
              "  </tbody>\n",
              "</table>\n",
              "</div>"
            ],
            "text/plain": [
              "     Transcript Name     word  count\n",
              "931     GOOG-Q2-2021  frontal      1\n",
              "933     GOOG-Q2-2021  compara      1\n",
              "934     GOOG-Q2-2021   leader      1\n",
              "935     GOOG-Q2-2021    chile      1\n",
              "1766    GOOG-Q2-2021       52      1"
            ]
          },
          "metadata": {},
          "execution_count": 25
        }
      ]
    },
    {
      "cell_type": "code",
      "metadata": {
        "colab": {
          "base_uri": "https://localhost:8080/"
        },
        "id": "hxDkRyg7WiZr",
        "outputId": "d5dd91f1-3d62-4d42-f967-c0224afe345b"
      },
      "source": [
        "df.shape"
      ],
      "execution_count": null,
      "outputs": [
        {
          "output_type": "execute_result",
          "data": {
            "text/plain": [
              "(1767, 3)"
            ]
          },
          "metadata": {},
          "execution_count": 23
        }
      ]
    },
    {
      "cell_type": "code",
      "metadata": {
        "colab": {
          "base_uri": "https://localhost:8080/"
        },
        "id": "XpeUQBfvWpml",
        "outputId": "8be885c5-090c-42fb-c5b0-43e54b1b54b6"
      },
      "source": [
        "df.info()"
      ],
      "execution_count": null,
      "outputs": [
        {
          "output_type": "stream",
          "name": "stdout",
          "text": [
            "<class 'pandas.core.frame.DataFrame'>\n",
            "Int64Index: 1767 entries, 39 to 1766\n",
            "Data columns (total 3 columns):\n",
            " #   Column           Non-Null Count  Dtype \n",
            "---  ------           --------------  ----- \n",
            " 0   Transcript Name  1767 non-null   object\n",
            " 1   word             1767 non-null   object\n",
            " 2   count            1767 non-null   int64 \n",
            "dtypes: int64(1), object(2)\n",
            "memory usage: 55.2+ KB\n"
          ]
        }
      ]
    },
    {
      "cell_type": "code",
      "metadata": {
        "colab": {
          "base_uri": "https://localhost:8080/"
        },
        "id": "E4QVcRRxWsiN",
        "outputId": "48710668-f24b-401c-d84b-ce7387bf397c"
      },
      "source": [
        "df.dtypes"
      ],
      "execution_count": null,
      "outputs": [
        {
          "output_type": "execute_result",
          "data": {
            "text/plain": [
              "Transcript Name    object\n",
              "word               object\n",
              "count               int64\n",
              "dtype: object"
            ]
          },
          "metadata": {},
          "execution_count": 11
        }
      ]
    },
    {
      "cell_type": "code",
      "metadata": {
        "colab": {
          "base_uri": "https://localhost:8080/",
          "height": 297
        },
        "id": "LULcS7-UWyBt",
        "outputId": "6648cab6-effd-4b0e-bb53-99adc1cc8fe5"
      },
      "source": [
        "df. describe()"
      ],
      "execution_count": null,
      "outputs": [
        {
          "output_type": "execute_result",
          "data": {
            "text/html": [
              "<div>\n",
              "<style scoped>\n",
              "    .dataframe tbody tr th:only-of-type {\n",
              "        vertical-align: middle;\n",
              "    }\n",
              "\n",
              "    .dataframe tbody tr th {\n",
              "        vertical-align: top;\n",
              "    }\n",
              "\n",
              "    .dataframe thead th {\n",
              "        text-align: right;\n",
              "    }\n",
              "</style>\n",
              "<table border=\"1\" class=\"dataframe\">\n",
              "  <thead>\n",
              "    <tr style=\"text-align: right;\">\n",
              "      <th></th>\n",
              "      <th>count</th>\n",
              "    </tr>\n",
              "  </thead>\n",
              "  <tbody>\n",
              "    <tr>\n",
              "      <th>count</th>\n",
              "      <td>1767.000000</td>\n",
              "    </tr>\n",
              "    <tr>\n",
              "      <th>mean</th>\n",
              "      <td>4.475948</td>\n",
              "    </tr>\n",
              "    <tr>\n",
              "      <th>std</th>\n",
              "      <td>16.133305</td>\n",
              "    </tr>\n",
              "    <tr>\n",
              "      <th>min</th>\n",
              "      <td>1.000000</td>\n",
              "    </tr>\n",
              "    <tr>\n",
              "      <th>25%</th>\n",
              "      <td>1.000000</td>\n",
              "    </tr>\n",
              "    <tr>\n",
              "      <th>50%</th>\n",
              "      <td>1.000000</td>\n",
              "    </tr>\n",
              "    <tr>\n",
              "      <th>75%</th>\n",
              "      <td>3.000000</td>\n",
              "    </tr>\n",
              "    <tr>\n",
              "      <th>max</th>\n",
              "      <td>314.000000</td>\n",
              "    </tr>\n",
              "  </tbody>\n",
              "</table>\n",
              "</div>"
            ],
            "text/plain": [
              "             count\n",
              "count  1767.000000\n",
              "mean      4.475948\n",
              "std      16.133305\n",
              "min       1.000000\n",
              "25%       1.000000\n",
              "50%       1.000000\n",
              "75%       3.000000\n",
              "max     314.000000"
            ]
          },
          "metadata": {},
          "execution_count": 12
        }
      ]
    },
    {
      "cell_type": "code",
      "metadata": {
        "colab": {
          "base_uri": "https://localhost:8080/"
        },
        "id": "NQzB-CrGXKbA",
        "outputId": "b9243e92-176c-4c1b-a4db-8174b4443a72"
      },
      "source": [
        "df.median()"
      ],
      "execution_count": null,
      "outputs": [
        {
          "output_type": "execute_result",
          "data": {
            "text/plain": [
              "count    1.0\n",
              "dtype: float64"
            ]
          },
          "metadata": {},
          "execution_count": 13
        }
      ]
    },
    {
      "cell_type": "code",
      "metadata": {
        "id": "46OIRxVkY4AL"
      },
      "source": [
        "df.to_csv('GOOG-2021-Q2.csv', index=False)"
      ],
      "execution_count": null,
      "outputs": []
    },
    {
      "cell_type": "code",
      "metadata": {
        "id": "mvf6fvMgZIxz"
      },
      "source": [
        ""
      ],
      "execution_count": null,
      "outputs": []
    }
  ]
}